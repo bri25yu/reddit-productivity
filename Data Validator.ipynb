{
 "cells": [
  {
   "cell_type": "markdown",
   "id": "c6d69021",
   "metadata": {},
   "source": [
    "Run this notebook to check that your annotated data is in the proper format; replace the paths in the cell below and execute all cells to validate."
   ]
  },
  {
   "cell_type": "code",
   "execution_count": 1,
   "id": "a4994308",
   "metadata": {},
   "outputs": [],
   "source": [
    "# Change these files to point to your data\n",
    "adjudicated_path=\"adjudicated_data.txt\"\n",
    "individual_annotation_path=\"individual_annotations.txt\""
   ]
  },
  {
   "cell_type": "code",
   "execution_count": 2,
   "id": "9766e089",
   "metadata": {},
   "outputs": [],
   "source": [
    "from collections import Counter\n",
    "import numpy as np"
   ]
  },
  {
   "cell_type": "code",
   "execution_count": 3,
   "id": "22c96555",
   "metadata": {},
   "outputs": [],
   "source": [
    "def check_file(filename, min_count):\n",
    "    annotator_triples={}\n",
    "    annos_by_data_id={}\n",
    "    with open(filename, encoding=\"utf-8\") as file:\n",
    "        for idx, line in enumerate(file):\n",
    "            cols=line.rstrip().split(\"\\t\")\n",
    "            assert len(cols) == 4, \"%s does not have 4 columns\" % cols\n",
    "            assert len(cols[3]) > 0, \"text #%s# in row %s is empty\" % (cols[3], idx)\n",
    "            assert len(cols[2]) > 0, \"label #%s# in row %s is empty\" % (cols[2], idx)\n",
    "            annotator_triples[cols[1], cols[0], cols[2]]=1\n",
    "            annos_by_data_id[cols[0]]=1\n",
    "        assert len(annos_by_data_id) >= min_count, \"You must have at least %s labels; this file only has %s\" % (min_count, count)\n",
    "\n",
    "        print(\"This file looks to be in the correct format; %s data points\" % len(annos_by_data_id))\n",
    "    return list(annotator_triples.keys())"
   ]
  },
  {
   "cell_type": "code",
   "execution_count": 4,
   "id": "fa02ceec",
   "metadata": {},
   "outputs": [
    {
     "name": "stdout",
     "output_type": "stream",
     "text": [
      "This file looks to be in the correct format; 1080 data points\n"
     ]
    }
   ],
   "source": [
    "adjudicated=check_file(adjudicated_path, 1000)"
   ]
  },
  {
   "cell_type": "code",
   "execution_count": 5,
   "id": "f1e8cf1a",
   "metadata": {},
   "outputs": [],
   "source": [
    "def check_individual_file(filename):\n",
    "    annotator_triples={}\n",
    "    annos_by_data_id={}\n",
    "    annos_by_annotator={}\n",
    "    labels={}\n",
    "    with open(filename, encoding=\"utf-8\") as file:\n",
    "        count=0\n",
    "        for idx, line in enumerate(file):\n",
    "            cols=line.rstrip().split(\"\\t\")\n",
    "            data_id=cols[0]\n",
    "            anno_id=cols[1]\n",
    "            label=cols[2]\n",
    "            \n",
    "            assert len(cols) == 4, \"%s does not have 4 columns\" % cols\n",
    "            assert len(cols[3]) > 0, \"text #%s# in row %s is empty\" % (cols[3], idx)\n",
    "            assert len(label) > 0, \"label #%s# in row %s is empty\" % (cols[2], idx)\n",
    "            count+=1\n",
    "            \n",
    "            annotator_triples[anno_id, data_id, label]=1\n",
    "            \n",
    "            if data_id not in annos_by_data_id:\n",
    "                annos_by_data_id[data_id]={}\n",
    "            annos_by_data_id[data_id][anno_id]=1\n",
    "            \n",
    "            if anno_id not in annos_by_annotator:\n",
    "                annos_by_annotator[anno_id]={}\n",
    "            annos_by_annotator[anno_id][data_id]=1\n",
    "            \n",
    "            if label not in labels:\n",
    "                labels[label]=0\n",
    "            labels[label]+=1\n",
    "                \n",
    "            \n",
    "    assert len(annos_by_data_id) >= 0, \"You must have labels for at least 500 documents; this file only has %s\" % (len(annos_by_data_id))\n",
    "    \n",
    "    for data_id in annos_by_data_id:\n",
    "        assert len(annos_by_data_id[data_id]) == 2, \"Each data point must have two annotations; data id %s does not\" % data_id\n",
    "    \n",
    "    print(\"Annotators:\\n\")\n",
    "    for anno_id in annos_by_annotator:\n",
    "        print(\"%s: %s\" % (anno_id, len(annos_by_annotator[anno_id])))\n",
    "        \n",
    "    print(\"\\nLabels:\\n\")\n",
    "    for label in labels:\n",
    "        print(\"%s: %s\" % (label, labels[label]))\n",
    "        \n",
    "    print(\"\\nThis file looks to be in the correct format; %s data points; %s annotations\" % (len(annos_by_data_id), len(annotator_triples)))\n",
    "    return list(annotator_triples.keys())"
   ]
  },
  {
   "cell_type": "code",
   "execution_count": 6,
   "id": "ce69d822",
   "metadata": {},
   "outputs": [
    {
     "name": "stdout",
     "output_type": "stream",
     "text": [
      "Annotators:\n",
      "\n",
      "Brian: 540\n",
      "Grace: 540\n",
      "\n",
      "Labels:\n",
      "\n",
      "Rhetorical: 514\n",
      "Inform: 121\n",
      "Connect: 111\n",
      "Argue: 199\n",
      "Arbitrate: 47\n",
      "Inquire: 67\n",
      "Summarize: 21\n",
      "\n",
      "This file looks to be in the correct format; 540 data points; 1080 annotations\n"
     ]
    }
   ],
   "source": [
    "annotation_triples=check_individual_file(individual_annotation_path)"
   ]
  },
  {
   "cell_type": "markdown",
   "id": "0747c1f7",
   "metadata": {},
   "source": [
    "Execute the following cell to calculate Fleiss' kappa on your individual annotations."
   ]
  },
  {
   "cell_type": "code",
   "execution_count": 7,
   "id": "e342c9b3",
   "metadata": {},
   "outputs": [],
   "source": [
    "def fleiss(annotation_triples):\n",
    "    cats={}\n",
    "    items={}\n",
    "    uid_counts=Counter()\n",
    "    uid_id={}\n",
    "    aid_counts=Counter()\n",
    "\n",
    "    # get label categories and unique data points\n",
    "    for aid, uid, label in annotation_triples:\n",
    "         if label not in cats:\n",
    "            cats[label]=len(cats)\n",
    "            if uid not in uid_id:\n",
    "                uid_id[uid]=len(uid_id)\n",
    "\n",
    "            uid_counts[uid]+=1\n",
    "\n",
    "    ncats=len(cats)\n",
    "    ps=np.zeros(ncats)\n",
    "\n",
    "    data = []\n",
    "\n",
    "    for aid, uid, label in annotation_triples:\n",
    "\n",
    "        if uid not in items:\n",
    "            items[uid]=np.zeros(ncats)\n",
    "\n",
    "        items[uid][cats[label]]+=1\n",
    "        ps[cats[label]]+=1\n",
    "\n",
    "    ps/=np.sum(ps)\n",
    "\n",
    "    expected=0.\n",
    "    for i in range(ncats):\n",
    "        expected+=ps[i]*ps[i]\n",
    "        \n",
    "    agreements=[]\n",
    "    for item in items:\n",
    "        total=np.sum(items[item])\n",
    "        assert total >= 2, \"every data point must have at least two annotations; this one has %s\" % (total)\n",
    "        summ=0\n",
    "\n",
    "        for i in range(ncats):\n",
    "            summ+=items[item][i]*(items[item][i]-1)\n",
    "        summ/=(total*(total-1))\n",
    "\n",
    "        agreements.append(summ)\n",
    "\n",
    "    observed=np.mean(agreements)\n",
    "    print (\"Observed: %.3f\" % (observed))\n",
    "    print (\"Expected: %.3f\" % (expected))\n",
    "    print (\"Fleiss' kappa: %.3f\" % ((observed-expected)/(1-expected)))\n"
   ]
  },
  {
   "cell_type": "code",
   "execution_count": 8,
   "id": "49e82376",
   "metadata": {},
   "outputs": [
    {
     "name": "stdout",
     "output_type": "stream",
     "text": [
      "Observed: 0.604\n",
      "Expected: 0.290\n",
      "Fleiss' kappa: 0.442\n"
     ]
    }
   ],
   "source": [
    "fleiss(annotation_triples)"
   ]
  },
  {
   "cell_type": "code",
   "execution_count": null,
   "id": "755ef53e",
   "metadata": {},
   "outputs": [],
   "source": []
  }
 ],
 "metadata": {
  "kernelspec": {
   "display_name": "Python 3 (ipykernel)",
   "language": "python",
   "name": "python3"
  },
  "language_info": {
   "codemirror_mode": {
    "name": "ipython",
    "version": 3
   },
   "file_extension": ".py",
   "mimetype": "text/x-python",
   "name": "python",
   "nbconvert_exporter": "python",
   "pygments_lexer": "ipython3",
   "version": "3.9.5"
  }
 },
 "nbformat": 4,
 "nbformat_minor": 5
}
